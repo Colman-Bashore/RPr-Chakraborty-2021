{
 "cells": [
  {
   "cell_type": "markdown",
   "metadata": {},
   "source": [
    "Title: RP- Social inequities in the distribution of COVID-19:\n",
    "---\n",
    "\n",
    "### Original Replication (no results altering improvements have been made to the code)\n",
    "\n",
    "**Reproduction of**: Social inequities in the distribution of COVID-19: An intracategorical analysis of peoplewith disabilities in the U.S.\n",
    "\n",
    "Chakraborty, J. 2021. Social inequities in the distribution of COVID-19: An intra-categorical analysis of people with disabilities in the U.S. *Disability and Health Journal* **14**:1-5. DOI:[10.1016/j.dhjo.2020.101007](https://doi.org/10.1016/j.dhjo.2020.101007).\n",
    "\n",
    "Reproduction Authors: Joe Holler, Peter Kedron, Drew An-Pham, Derrick Burt.\n",
    "\n",
    "Reproduction Materials Available at: [RP-Kang Repository](https://github.com/HEGSRR/RPr-Chakraborty2020)\n",
    "\n",
    "Created: `22 Jul 2021`\n",
    "Revised: `22 Jul 2021`\n"
   ]
  },
  {
   "cell_type": "code",
   "execution_count": null,
   "metadata": {},
   "outputs": [],
   "source": []
  }
 ],
 "metadata": {
  "kernelspec": {
   "display_name": "Python 3",
   "language": "python",
   "name": "python3"
  },
  "language_info": {
   "codemirror_mode": {
    "name": "ipython",
    "version": 3
   },
   "file_extension": ".py",
   "mimetype": "text/x-python",
   "name": "python",
   "nbconvert_exporter": "python",
   "pygments_lexer": "ipython3",
   "version": "3.7.6"
  }
 },
 "nbformat": 4,
 "nbformat_minor": 4
}
